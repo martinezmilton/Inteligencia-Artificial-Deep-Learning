{
 "cells": [
  {
   "cell_type": "code",
   "execution_count": 1,
   "id": "4929003c-ecdf-4309-b26a-e31a4e57bf4b",
   "metadata": {},
   "outputs": [
    {
     "name": "stdout",
     "output_type": "stream",
     "text": [
      "Collecting fastai\n",
      "  Downloading fastai-2.7.17-py3-none-any.whl.metadata (9.1 kB)\n",
      "Requirement already satisfied: pip in c:\\users\\amilt\\.conda\\envs\\ns_env\\lib\\site-packages (from fastai) (24.2)\n",
      "Requirement already satisfied: packaging in c:\\users\\amilt\\.conda\\envs\\ns_env\\lib\\site-packages (from fastai) (24.1)\n",
      "Collecting fastdownload<2,>=0.0.5 (from fastai)\n",
      "  Downloading fastdownload-0.0.7-py3-none-any.whl.metadata (5.5 kB)\n",
      "Collecting fastcore<1.8,>=1.5.29 (from fastai)\n",
      "  Downloading fastcore-1.7.8-py3-none-any.whl.metadata (3.5 kB)\n",
      "Requirement already satisfied: torchvision>=0.11 in c:\\users\\amilt\\.conda\\envs\\ns_env\\lib\\site-packages (from fastai) (0.19.1)\n",
      "Requirement already satisfied: matplotlib in c:\\users\\amilt\\.conda\\envs\\ns_env\\lib\\site-packages (from fastai) (3.9.2)\n",
      "Collecting pandas (from fastai)\n",
      "  Downloading pandas-2.2.2-cp312-cp312-win_amd64.whl.metadata (19 kB)\n",
      "Requirement already satisfied: requests in c:\\users\\amilt\\.conda\\envs\\ns_env\\lib\\site-packages (from fastai) (2.32.3)\n",
      "Requirement already satisfied: pyyaml in c:\\users\\amilt\\.conda\\envs\\ns_env\\lib\\site-packages (from fastai) (6.0.1)\n",
      "Collecting fastprogress>=0.2.4 (from fastai)\n",
      "  Downloading fastprogress-1.0.3-py3-none-any.whl.metadata (5.6 kB)\n",
      "Requirement already satisfied: pillow>=9.0.0 in c:\\users\\amilt\\.conda\\envs\\ns_env\\lib\\site-packages (from fastai) (10.4.0)\n",
      "Requirement already satisfied: scikit-learn in c:\\users\\amilt\\.conda\\envs\\ns_env\\lib\\site-packages (from fastai) (1.5.2)\n",
      "Requirement already satisfied: scipy in c:\\users\\amilt\\.conda\\envs\\ns_env\\lib\\site-packages (from fastai) (1.14.1)\n",
      "Collecting spacy<4 (from fastai)\n",
      "  Downloading spacy-3.7.6-cp312-cp312-win_amd64.whl.metadata (27 kB)\n",
      "Requirement already satisfied: torch<2.5,>=1.10 in c:\\users\\amilt\\.conda\\envs\\ns_env\\lib\\site-packages (from fastai) (2.4.1)\n",
      "Collecting spacy-legacy<3.1.0,>=3.0.11 (from spacy<4->fastai)\n",
      "  Downloading spacy_legacy-3.0.12-py2.py3-none-any.whl.metadata (2.8 kB)\n",
      "Collecting spacy-loggers<2.0.0,>=1.0.0 (from spacy<4->fastai)\n",
      "  Downloading spacy_loggers-1.0.5-py3-none-any.whl.metadata (23 kB)\n",
      "Collecting murmurhash<1.1.0,>=0.28.0 (from spacy<4->fastai)\n",
      "  Downloading murmurhash-1.0.10-cp312-cp312-win_amd64.whl.metadata (2.0 kB)\n",
      "Collecting cymem<2.1.0,>=2.0.2 (from spacy<4->fastai)\n",
      "  Downloading cymem-2.0.8-cp312-cp312-win_amd64.whl.metadata (8.6 kB)\n",
      "Collecting preshed<3.1.0,>=3.0.2 (from spacy<4->fastai)\n",
      "  Downloading preshed-3.0.9-cp312-cp312-win_amd64.whl.metadata (2.2 kB)\n",
      "Collecting thinc<8.3.0,>=8.2.2 (from spacy<4->fastai)\n",
      "  Downloading thinc-8.2.5-cp312-cp312-win_amd64.whl.metadata (15 kB)\n",
      "Collecting wasabi<1.2.0,>=0.9.1 (from spacy<4->fastai)\n",
      "  Downloading wasabi-1.1.3-py3-none-any.whl.metadata (28 kB)\n",
      "Collecting srsly<3.0.0,>=2.4.3 (from spacy<4->fastai)\n",
      "  Downloading srsly-2.4.8-cp312-cp312-win_amd64.whl.metadata (20 kB)\n",
      "Collecting catalogue<2.1.0,>=2.0.6 (from spacy<4->fastai)\n",
      "  Downloading catalogue-2.0.10-py3-none-any.whl.metadata (14 kB)\n",
      "Collecting weasel<0.5.0,>=0.1.0 (from spacy<4->fastai)\n",
      "  Downloading weasel-0.4.1-py3-none-any.whl.metadata (4.6 kB)\n",
      "Collecting typer<1.0.0,>=0.3.0 (from spacy<4->fastai)\n",
      "  Downloading typer-0.12.5-py3-none-any.whl.metadata (15 kB)\n",
      "Requirement already satisfied: tqdm<5.0.0,>=4.38.0 in c:\\users\\amilt\\.conda\\envs\\ns_env\\lib\\site-packages (from spacy<4->fastai) (4.66.5)\n",
      "Collecting pydantic!=1.8,!=1.8.1,<3.0.0,>=1.7.4 (from spacy<4->fastai)\n",
      "  Downloading pydantic-2.9.1-py3-none-any.whl.metadata (146 kB)\n",
      "Requirement already satisfied: jinja2 in c:\\users\\amilt\\.conda\\envs\\ns_env\\lib\\site-packages (from spacy<4->fastai) (3.1.4)\n",
      "Requirement already satisfied: setuptools in c:\\users\\amilt\\.conda\\envs\\ns_env\\lib\\site-packages (from spacy<4->fastai) (72.1.0)\n",
      "Collecting langcodes<4.0.0,>=3.2.0 (from spacy<4->fastai)\n",
      "  Downloading langcodes-3.4.0-py3-none-any.whl.metadata (29 kB)\n",
      "Requirement already satisfied: numpy>=1.19.0 in c:\\users\\amilt\\.conda\\envs\\ns_env\\lib\\site-packages (from spacy<4->fastai) (2.0.1)\n",
      "Requirement already satisfied: charset-normalizer<4,>=2 in c:\\users\\amilt\\.conda\\envs\\ns_env\\lib\\site-packages (from requests->fastai) (3.3.2)\n",
      "Requirement already satisfied: idna<4,>=2.5 in c:\\users\\amilt\\.conda\\envs\\ns_env\\lib\\site-packages (from requests->fastai) (3.7)\n",
      "Requirement already satisfied: urllib3<3,>=1.21.1 in c:\\users\\amilt\\.conda\\envs\\ns_env\\lib\\site-packages (from requests->fastai) (2.2.2)\n",
      "Requirement already satisfied: certifi>=2017.4.17 in c:\\users\\amilt\\.conda\\envs\\ns_env\\lib\\site-packages (from requests->fastai) (2024.8.30)\n",
      "Requirement already satisfied: filelock in c:\\users\\amilt\\.conda\\envs\\ns_env\\lib\\site-packages (from torch<2.5,>=1.10->fastai) (3.13.1)\n",
      "Requirement already satisfied: typing-extensions>=4.8.0 in c:\\users\\amilt\\.conda\\envs\\ns_env\\lib\\site-packages (from torch<2.5,>=1.10->fastai) (4.11.0)\n",
      "Requirement already satisfied: sympy in c:\\users\\amilt\\.conda\\envs\\ns_env\\lib\\site-packages (from torch<2.5,>=1.10->fastai) (1.13.2)\n",
      "Requirement already satisfied: networkx in c:\\users\\amilt\\.conda\\envs\\ns_env\\lib\\site-packages (from torch<2.5,>=1.10->fastai) (3.2.1)\n",
      "Requirement already satisfied: fsspec in c:\\users\\amilt\\.conda\\envs\\ns_env\\lib\\site-packages (from torch<2.5,>=1.10->fastai) (2024.9.0)\n",
      "Requirement already satisfied: contourpy>=1.0.1 in c:\\users\\amilt\\.conda\\envs\\ns_env\\lib\\site-packages (from matplotlib->fastai) (1.3.0)\n",
      "Requirement already satisfied: cycler>=0.10 in c:\\users\\amilt\\.conda\\envs\\ns_env\\lib\\site-packages (from matplotlib->fastai) (0.12.1)\n",
      "Requirement already satisfied: fonttools>=4.22.0 in c:\\users\\amilt\\.conda\\envs\\ns_env\\lib\\site-packages (from matplotlib->fastai) (4.53.1)\n",
      "Requirement already satisfied: kiwisolver>=1.3.1 in c:\\users\\amilt\\.conda\\envs\\ns_env\\lib\\site-packages (from matplotlib->fastai) (1.4.7)\n",
      "Requirement already satisfied: pyparsing>=2.3.1 in c:\\users\\amilt\\.conda\\envs\\ns_env\\lib\\site-packages (from matplotlib->fastai) (3.1.4)\n",
      "Requirement already satisfied: python-dateutil>=2.7 in c:\\users\\amilt\\.conda\\envs\\ns_env\\lib\\site-packages (from matplotlib->fastai) (2.9.0.post0)\n",
      "Requirement already satisfied: pytz>=2020.1 in c:\\users\\amilt\\.conda\\envs\\ns_env\\lib\\site-packages (from pandas->fastai) (2024.1)\n",
      "Collecting tzdata>=2022.7 (from pandas->fastai)\n",
      "  Downloading tzdata-2024.1-py2.py3-none-any.whl.metadata (1.4 kB)\n",
      "Requirement already satisfied: joblib>=1.2.0 in c:\\users\\amilt\\.conda\\envs\\ns_env\\lib\\site-packages (from scikit-learn->fastai) (1.4.2)\n",
      "Requirement already satisfied: threadpoolctl>=3.1.0 in c:\\users\\amilt\\.conda\\envs\\ns_env\\lib\\site-packages (from scikit-learn->fastai) (3.5.0)\n",
      "Collecting language-data>=1.2 (from langcodes<4.0.0,>=3.2.0->spacy<4->fastai)\n",
      "  Downloading language_data-1.2.0-py3-none-any.whl.metadata (4.3 kB)\n",
      "Collecting annotated-types>=0.6.0 (from pydantic!=1.8,!=1.8.1,<3.0.0,>=1.7.4->spacy<4->fastai)\n",
      "  Downloading annotated_types-0.7.0-py3-none-any.whl.metadata (15 kB)\n",
      "Collecting pydantic-core==2.23.3 (from pydantic!=1.8,!=1.8.1,<3.0.0,>=1.7.4->spacy<4->fastai)\n",
      "  Downloading pydantic_core-2.23.3-cp312-none-win_amd64.whl.metadata (6.7 kB)\n",
      "Requirement already satisfied: six>=1.5 in c:\\users\\amilt\\.conda\\envs\\ns_env\\lib\\site-packages (from python-dateutil>=2.7->matplotlib->fastai) (1.16.0)\n",
      "Collecting blis<0.8.0,>=0.7.8 (from thinc<8.3.0,>=8.2.2->spacy<4->fastai)\n",
      "  Downloading blis-0.7.11-cp312-cp312-win_amd64.whl.metadata (7.6 kB)\n",
      "Collecting confection<1.0.0,>=0.0.1 (from thinc<8.3.0,>=8.2.2->spacy<4->fastai)\n",
      "  Downloading confection-0.1.5-py3-none-any.whl.metadata (19 kB)\n",
      "Collecting numpy>=1.19.0 (from spacy<4->fastai)\n",
      "  Downloading numpy-1.26.4-cp312-cp312-win_amd64.whl.metadata (61 kB)\n",
      "Requirement already satisfied: colorama in c:\\users\\amilt\\.conda\\envs\\ns_env\\lib\\site-packages (from tqdm<5.0.0,>=4.38.0->spacy<4->fastai) (0.4.6)\n",
      "Requirement already satisfied: click>=8.0.0 in c:\\users\\amilt\\.conda\\envs\\ns_env\\lib\\site-packages (from typer<1.0.0,>=0.3.0->spacy<4->fastai) (8.1.7)\n",
      "Collecting shellingham>=1.3.0 (from typer<1.0.0,>=0.3.0->spacy<4->fastai)\n",
      "  Downloading shellingham-1.5.4-py2.py3-none-any.whl.metadata (3.5 kB)\n",
      "Requirement already satisfied: rich>=10.11.0 in c:\\users\\amilt\\.conda\\envs\\ns_env\\lib\\site-packages (from typer<1.0.0,>=0.3.0->spacy<4->fastai) (13.7.1)\n",
      "Collecting cloudpathlib<1.0.0,>=0.7.0 (from weasel<0.5.0,>=0.1.0->spacy<4->fastai)\n",
      "  Downloading cloudpathlib-0.19.0-py3-none-any.whl.metadata (14 kB)\n",
      "Collecting smart-open<8.0.0,>=5.2.1 (from weasel<0.5.0,>=0.1.0->spacy<4->fastai)\n",
      "  Downloading smart_open-7.0.4-py3-none-any.whl.metadata (23 kB)\n",
      "Requirement already satisfied: MarkupSafe>=2.0 in c:\\users\\amilt\\.conda\\envs\\ns_env\\lib\\site-packages (from jinja2->spacy<4->fastai) (2.1.3)\n",
      "Requirement already satisfied: mpmath<1.4,>=1.1.0 in c:\\users\\amilt\\.conda\\envs\\ns_env\\lib\\site-packages (from sympy->torch<2.5,>=1.10->fastai) (1.3.0)\n",
      "Collecting marisa-trie>=0.7.7 (from language-data>=1.2->langcodes<4.0.0,>=3.2.0->spacy<4->fastai)\n",
      "  Downloading marisa_trie-1.2.0-cp312-cp312-win_amd64.whl.metadata (9.0 kB)\n",
      "Requirement already satisfied: markdown-it-py>=2.2.0 in c:\\users\\amilt\\.conda\\envs\\ns_env\\lib\\site-packages (from rich>=10.11.0->typer<1.0.0,>=0.3.0->spacy<4->fastai) (2.2.0)\n",
      "Requirement already satisfied: pygments<3.0.0,>=2.13.0 in c:\\users\\amilt\\.conda\\envs\\ns_env\\lib\\site-packages (from rich>=10.11.0->typer<1.0.0,>=0.3.0->spacy<4->fastai) (2.15.1)\n",
      "Requirement already satisfied: wrapt in c:\\users\\amilt\\.conda\\envs\\ns_env\\lib\\site-packages (from smart-open<8.0.0,>=5.2.1->weasel<0.5.0,>=0.1.0->spacy<4->fastai) (1.14.1)\n",
      "Requirement already satisfied: mdurl~=0.1 in c:\\users\\amilt\\.conda\\envs\\ns_env\\lib\\site-packages (from markdown-it-py>=2.2.0->rich>=10.11.0->typer<1.0.0,>=0.3.0->spacy<4->fastai) (0.1.0)\n",
      "Downloading fastai-2.7.17-py3-none-any.whl (234 kB)\n",
      "Downloading fastcore-1.7.8-py3-none-any.whl (79 kB)\n",
      "Downloading fastdownload-0.0.7-py3-none-any.whl (12 kB)\n",
      "Downloading fastprogress-1.0.3-py3-none-any.whl (12 kB)\n",
      "Downloading spacy-3.7.6-cp312-cp312-win_amd64.whl (11.7 MB)\n",
      "   ---------------------------------------- 0.0/11.7 MB ? eta -:--:--\n",
      "   ------ --------------------------------- 1.8/11.7 MB 10.0 MB/s eta 0:00:01\n",
      "   ---------------- ----------------------- 4.7/11.7 MB 10.9 MB/s eta 0:00:01\n",
      "   ------------------------ --------------- 7.1/11.7 MB 11.8 MB/s eta 0:00:01\n",
      "   ---------------------------------- ----- 10.2/11.7 MB 12.3 MB/s eta 0:00:01\n",
      "   -------------------------------------- - 11.3/11.7 MB 12.1 MB/s eta 0:00:01\n",
      "   ---------------------------------------- 11.7/11.7 MB 10.6 MB/s eta 0:00:00\n",
      "Downloading pandas-2.2.2-cp312-cp312-win_amd64.whl (11.5 MB)\n",
      "   ---------------------------------------- 0.0/11.5 MB ? eta -:--:--\n",
      "   ------ --------------------------------- 1.8/11.5 MB 8.4 MB/s eta 0:00:02\n",
      "   ----------- ---------------------------- 3.4/11.5 MB 8.4 MB/s eta 0:00:01\n",
      "   ------------------ --------------------- 5.2/11.5 MB 8.6 MB/s eta 0:00:01\n",
      "   ------------------------ --------------- 7.1/11.5 MB 8.7 MB/s eta 0:00:01\n",
      "   ------------------------------- -------- 8.9/11.5 MB 8.8 MB/s eta 0:00:01\n",
      "   -------------------------------------- - 11.0/11.5 MB 8.8 MB/s eta 0:00:01\n",
      "   ---------------------------------------- 11.5/11.5 MB 8.5 MB/s eta 0:00:00\n",
      "Downloading catalogue-2.0.10-py3-none-any.whl (17 kB)\n",
      "Downloading cymem-2.0.8-cp312-cp312-win_amd64.whl (39 kB)\n",
      "Downloading langcodes-3.4.0-py3-none-any.whl (182 kB)\n",
      "Downloading murmurhash-1.0.10-cp312-cp312-win_amd64.whl (25 kB)\n",
      "Downloading preshed-3.0.9-cp312-cp312-win_amd64.whl (122 kB)\n",
      "Downloading pydantic-2.9.1-py3-none-any.whl (434 kB)\n",
      "Downloading pydantic_core-2.23.3-cp312-none-win_amd64.whl (1.9 MB)\n",
      "   ---------------------------------------- 0.0/1.9 MB ? eta -:--:--\n",
      "   -------------------------------------- - 1.8/1.9 MB 9.1 MB/s eta 0:00:01\n",
      "   ---------------------------------------- 1.9/1.9 MB 7.6 MB/s eta 0:00:00\n",
      "Downloading spacy_legacy-3.0.12-py2.py3-none-any.whl (29 kB)\n",
      "Downloading spacy_loggers-1.0.5-py3-none-any.whl (22 kB)\n",
      "Downloading srsly-2.4.8-cp312-cp312-win_amd64.whl (478 kB)\n",
      "Downloading thinc-8.2.5-cp312-cp312-win_amd64.whl (1.4 MB)\n",
      "   ---------------------------------------- 0.0/1.4 MB ? eta -:--:--\n",
      "   ---------------------------------------- 1.4/1.4 MB 7.6 MB/s eta 0:00:00\n",
      "Downloading numpy-1.26.4-cp312-cp312-win_amd64.whl (15.5 MB)\n",
      "   ---------------------------------------- 0.0/15.5 MB ? eta -:--:--\n",
      "   ---- ----------------------------------- 1.8/15.5 MB 9.1 MB/s eta 0:00:02\n",
      "   ---------- ----------------------------- 3.9/15.5 MB 9.4 MB/s eta 0:00:02\n",
      "   --------------- ------------------------ 6.0/15.5 MB 9.5 MB/s eta 0:00:02\n",
      "   -------------------- ------------------- 8.1/15.5 MB 9.7 MB/s eta 0:00:01\n",
      "   -------------------------- ------------- 10.2/15.5 MB 9.7 MB/s eta 0:00:01\n",
      "   ------------------------------- -------- 12.3/15.5 MB 9.8 MB/s eta 0:00:01\n",
      "   ------------------------------------ --- 14.2/15.5 MB 9.8 MB/s eta 0:00:01\n",
      "   ---------------------------------------- 15.5/15.5 MB 9.5 MB/s eta 0:00:00\n",
      "Downloading typer-0.12.5-py3-none-any.whl (47 kB)\n",
      "Downloading tzdata-2024.1-py2.py3-none-any.whl (345 kB)\n",
      "Downloading wasabi-1.1.3-py3-none-any.whl (27 kB)\n",
      "Downloading weasel-0.4.1-py3-none-any.whl (50 kB)\n",
      "Downloading annotated_types-0.7.0-py3-none-any.whl (13 kB)\n",
      "Downloading blis-0.7.11-cp312-cp312-win_amd64.whl (6.6 MB)\n",
      "   ---------------------------------------- 0.0/6.6 MB ? eta -:--:--\n",
      "   ------------ --------------------------- 2.1/6.6 MB 10.7 MB/s eta 0:00:01\n",
      "   ------------------------- -------------- 4.2/6.6 MB 10.5 MB/s eta 0:00:01\n",
      "   ------------------------------------- -- 6.3/6.6 MB 10.4 MB/s eta 0:00:01\n",
      "   ---------------------------------------- 6.6/6.6 MB 9.9 MB/s eta 0:00:00\n",
      "Downloading cloudpathlib-0.19.0-py3-none-any.whl (49 kB)\n",
      "Downloading confection-0.1.5-py3-none-any.whl (35 kB)\n",
      "Downloading language_data-1.2.0-py3-none-any.whl (5.4 MB)\n",
      "   ---------------------------------------- 0.0/5.4 MB ? eta -:--:--\n",
      "   ------------- -------------------------- 1.8/5.4 MB 10.1 MB/s eta 0:00:01\n",
      "   ------------------------------- -------- 4.2/5.4 MB 10.1 MB/s eta 0:00:01\n",
      "   ---------------------------------------- 5.4/5.4 MB 9.4 MB/s eta 0:00:00\n",
      "Downloading shellingham-1.5.4-py2.py3-none-any.whl (9.8 kB)\n",
      "Downloading smart_open-7.0.4-py3-none-any.whl (61 kB)\n",
      "Downloading marisa_trie-1.2.0-cp312-cp312-win_amd64.whl (151 kB)\n",
      "Installing collected packages: cymem, wasabi, tzdata, spacy-loggers, spacy-legacy, smart-open, shellingham, pydantic-core, numpy, murmurhash, marisa-trie, fastprogress, fastcore, cloudpathlib, catalogue, annotated-types, srsly, pydantic, preshed, pandas, language-data, fastdownload, blis, typer, langcodes, confection, weasel, thinc, spacy, fastai\n",
      "  Attempting uninstall: numpy\n",
      "    Found existing installation: numpy 2.0.1\n",
      "    Uninstalling numpy-2.0.1:\n",
      "      Successfully uninstalled numpy-2.0.1\n",
      "Successfully installed annotated-types-0.7.0 blis-0.7.11 catalogue-2.0.10 cloudpathlib-0.19.0 confection-0.1.5 cymem-2.0.8 fastai-2.7.17 fastcore-1.7.8 fastdownload-0.0.7 fastprogress-1.0.3 langcodes-3.4.0 language-data-1.2.0 marisa-trie-1.2.0 murmurhash-1.0.10 numpy-1.26.4 pandas-2.2.2 preshed-3.0.9 pydantic-2.9.1 pydantic-core-2.23.3 shellingham-1.5.4 smart-open-7.0.4 spacy-3.7.6 spacy-legacy-3.0.12 spacy-loggers-1.0.5 srsly-2.4.8 thinc-8.2.5 typer-0.12.5 tzdata-2024.1 wasabi-1.1.3 weasel-0.4.1\n"
     ]
    }
   ],
   "source": [
    "!pip install fastai"
   ]
  },
  {
   "cell_type": "code",
   "execution_count": 5,
   "id": "098fc49e-c22b-4f35-b4f1-01d7402fa408",
   "metadata": {},
   "outputs": [],
   "source": [
    "from fastai.vision.all import *\n",
    "from sklearn.model_selection import train_test_split\n",
    "import pandas as pd\n",
    "import os\n",
    "import random"
   ]
  },
  {
   "cell_type": "code",
   "execution_count": 22,
   "id": "644abd4e-3a23-4d12-929e-2a2a17bf3fcc",
   "metadata": {},
   "outputs": [],
   "source": [
    "data_dir = 'D:/processed_plantas'\n",
    "categories = ['arocarbol', 'durazno', 'guayabilla', 'matico', 'tuna']\n",
    "img_paths = []\n",
    "labels = []\n",
    "\n",
    "images_per_category = 5000\n",
    "\n",
    "# Recolección de imágenes y etiquetas\n",
    "for label, category in enumerate(categories):\n",
    "    category_path = os.path.join(data_dir, category)\n",
    "    img_names = os.listdir(category_path)\n",
    "    random.shuffle(img_names) \n",
    "    img_names = img_names[:images_per_category] \n",
    "    img_paths += [os.path.join(category_path, img_name) for img_name in img_names]\n",
    "    labels += [label] * len(img_names)"
   ]
  },
  {
   "cell_type": "code",
   "execution_count": 23,
   "id": "8351df27-170d-4929-baa8-685c6c1c88b6",
   "metadata": {},
   "outputs": [],
   "source": [
    "# División en conjunto de entrenamiento y prueba\n",
    "train_paths, test_paths, train_labels, test_labels = train_test_split(img_paths, labels, test_size=0.2, stratify=labels)\n",
    "\n",
    "# Crear un DataFrame para los datos de entrenamiento y prueba\n",
    "df_train = pd.DataFrame({'image': train_paths, 'label': train_labels})\n",
    "df_test = pd.DataFrame({'image': test_paths, 'label': test_labels})"
   ]
  },
  {
   "cell_type": "code",
   "execution_count": 24,
   "id": "b11098bb-572e-42f5-ba53-3e2406c25902",
   "metadata": {},
   "outputs": [],
   "source": [
    "# Convertir la columna 'image' a ruta de archivos\n",
    "def get_x(row): return row['image']\n",
    "def get_y(row): return row['label']\n",
    "\n",
    "# Creación del DataBlock de Fastai\n",
    "plant_data = DataBlock(\n",
    "    blocks=(ImageBlock, CategoryBlock),\n",
    "    get_x=get_x,\n",
    "    get_y=get_y,\n",
    "    splitter=RandomSplitter(valid_pct=0.2),\n",
    "    batch_tfms=Normalize.from_stats(*imagenet_stats)\n",
    ")\n",
    "\n",
    "# Crear el DataLoader\n",
    "dls = plant_data.dataloaders(df_train, bs=32)"
   ]
  },
  {
   "cell_type": "code",
   "execution_count": 25,
   "id": "d630df2e-accd-4856-a078-dfcfabcdcf06",
   "metadata": {},
   "outputs": [],
   "source": [
    "class MLP(nn.Module):\n",
    "    def __init__(self):\n",
    "        super(MLP, self).__init__()\n",
    "        self.fc1 = nn.Linear(300*300*3, 50)\n",
    "        self.dropout = nn.Dropout(0.5)\n",
    "        self.fc2 = nn.Linear(50, 5)\n",
    "\n",
    "    def forward(self, x):\n",
    "        x = x.view(-1, 300*300*3)\n",
    "        x = torch.relu(self.fc1(x))\n",
    "        x = self.dropout(x)\n",
    "        x = self.fc2(x)\n",
    "        return x"
   ]
  },
  {
   "cell_type": "code",
   "execution_count": 26,
   "id": "81f4b799-1b66-4b04-8839-0b2998b60592",
   "metadata": {},
   "outputs": [
    {
     "name": "stdout",
     "output_type": "stream",
     "text": [
      "Model is on: NVIDIA GeForce GTX 1060\n"
     ]
    }
   ],
   "source": [
    "# Instanciar el modelo y utilizar GPU si está disponible\n",
    "model = MLP()\n",
    "\n",
    "# Crear el learner\n",
    "learn = Learner(dls, model, loss_func=CrossEntropyLossFlat(), metrics=accuracy)\n",
    "\n",
    "print(f'Model is on: {torch.cuda.get_device_name(0) if torch.cuda.is_available() else \"CPU\"}')"
   ]
  },
  {
   "cell_type": "code",
   "execution_count": 27,
   "id": "e8089476-27de-44de-8d4f-dded62ba126b",
   "metadata": {},
   "outputs": [
    {
     "data": {
      "text/html": [
       "\n",
       "<style>\n",
       "    /* Turns off some styling */\n",
       "    progress {\n",
       "        /* gets rid of default border in Firefox and Opera. */\n",
       "        border: none;\n",
       "        /* Needs to be in here for Safari polyfill so background images work as expected. */\n",
       "        background-size: auto;\n",
       "    }\n",
       "    progress:not([value]), progress:not([value])::-webkit-progress-bar {\n",
       "        background: repeating-linear-gradient(45deg, #7e7e7e, #7e7e7e 10px, #5c5c5c 10px, #5c5c5c 20px);\n",
       "    }\n",
       "    .progress-bar-interrupted, .progress-bar-interrupted::-webkit-progress-bar {\n",
       "        background: #F44336;\n",
       "    }\n",
       "</style>\n"
      ],
      "text/plain": [
       "<IPython.core.display.HTML object>"
      ]
     },
     "metadata": {},
     "output_type": "display_data"
    },
    {
     "data": {
      "text/html": [
       "<table border=\"1\" class=\"dataframe\">\n",
       "  <thead>\n",
       "    <tr style=\"text-align: left;\">\n",
       "      <th>epoch</th>\n",
       "      <th>train_loss</th>\n",
       "      <th>valid_loss</th>\n",
       "      <th>accuracy</th>\n",
       "      <th>time</th>\n",
       "    </tr>\n",
       "  </thead>\n",
       "  <tbody>\n",
       "    <tr>\n",
       "      <td>0</td>\n",
       "      <td>5.019946</td>\n",
       "      <td>4.503966</td>\n",
       "      <td>0.321000</td>\n",
       "      <td>01:47</td>\n",
       "    </tr>\n",
       "    <tr>\n",
       "      <td>1</td>\n",
       "      <td>2.846083</td>\n",
       "      <td>2.363024</td>\n",
       "      <td>0.348250</td>\n",
       "      <td>01:34</td>\n",
       "    </tr>\n",
       "    <tr>\n",
       "      <td>2</td>\n",
       "      <td>1.863835</td>\n",
       "      <td>1.706053</td>\n",
       "      <td>0.375000</td>\n",
       "      <td>01:33</td>\n",
       "    </tr>\n",
       "    <tr>\n",
       "      <td>3</td>\n",
       "      <td>1.894662</td>\n",
       "      <td>1.689463</td>\n",
       "      <td>0.377750</td>\n",
       "      <td>01:34</td>\n",
       "    </tr>\n",
       "    <tr>\n",
       "      <td>4</td>\n",
       "      <td>1.678151</td>\n",
       "      <td>1.715677</td>\n",
       "      <td>0.441750</td>\n",
       "      <td>01:36</td>\n",
       "    </tr>\n",
       "    <tr>\n",
       "      <td>5</td>\n",
       "      <td>1.587153</td>\n",
       "      <td>1.481910</td>\n",
       "      <td>0.447500</td>\n",
       "      <td>01:34</td>\n",
       "    </tr>\n",
       "    <tr>\n",
       "      <td>6</td>\n",
       "      <td>1.424334</td>\n",
       "      <td>1.367474</td>\n",
       "      <td>0.472750</td>\n",
       "      <td>01:35</td>\n",
       "    </tr>\n",
       "    <tr>\n",
       "      <td>7</td>\n",
       "      <td>1.272260</td>\n",
       "      <td>1.253010</td>\n",
       "      <td>0.510000</td>\n",
       "      <td>01:32</td>\n",
       "    </tr>\n",
       "    <tr>\n",
       "      <td>8</td>\n",
       "      <td>1.152949</td>\n",
       "      <td>1.219603</td>\n",
       "      <td>0.533250</td>\n",
       "      <td>01:32</td>\n",
       "    </tr>\n",
       "    <tr>\n",
       "      <td>9</td>\n",
       "      <td>1.110680</td>\n",
       "      <td>1.213248</td>\n",
       "      <td>0.532750</td>\n",
       "      <td>01:34</td>\n",
       "    </tr>\n",
       "  </tbody>\n",
       "</table>"
      ],
      "text/plain": [
       "<IPython.core.display.HTML object>"
      ]
     },
     "metadata": {},
     "output_type": "display_data"
    }
   ],
   "source": [
    "# Entrenamiento del modelo\n",
    "learn.fit_one_cycle(10, 1e-3)"
   ]
  },
  {
   "cell_type": "code",
   "execution_count": 28,
   "id": "98ff0852-c131-4219-a345-40bbc42de398",
   "metadata": {},
   "outputs": [
    {
     "data": {
      "text/plain": [
       "Path('models/mlp-fastai.pth')"
      ]
     },
     "execution_count": 28,
     "metadata": {},
     "output_type": "execute_result"
    }
   ],
   "source": [
    "# Guardar modelo entrenado\n",
    "learn.save('mlp-fastai')"
   ]
  },
  {
   "cell_type": "code",
   "execution_count": 29,
   "id": "d47f292c-8a0f-4654-8958-0c39d3fab371",
   "metadata": {},
   "outputs": [
    {
     "data": {
      "text/html": [
       "\n",
       "<style>\n",
       "    /* Turns off some styling */\n",
       "    progress {\n",
       "        /* gets rid of default border in Firefox and Opera. */\n",
       "        border: none;\n",
       "        /* Needs to be in here for Safari polyfill so background images work as expected. */\n",
       "        background-size: auto;\n",
       "    }\n",
       "    progress:not([value]), progress:not([value])::-webkit-progress-bar {\n",
       "        background: repeating-linear-gradient(45deg, #7e7e7e, #7e7e7e 10px, #5c5c5c 10px, #5c5c5c 20px);\n",
       "    }\n",
       "    .progress-bar-interrupted, .progress-bar-interrupted::-webkit-progress-bar {\n",
       "        background: #F44336;\n",
       "    }\n",
       "</style>\n"
      ],
      "text/plain": [
       "<IPython.core.display.HTML object>"
      ]
     },
     "metadata": {},
     "output_type": "display_data"
    },
    {
     "data": {
      "text/html": [],
      "text/plain": [
       "<IPython.core.display.HTML object>"
      ]
     },
     "metadata": {},
     "output_type": "display_data"
    },
    {
     "data": {
      "text/plain": [
       "(#2) [1.2132481336593628,0.5327500104904175]"
      ]
     },
     "execution_count": 29,
     "metadata": {},
     "output_type": "execute_result"
    }
   ],
   "source": [
    "# Evaluación en el set de validación\n",
    "learn.validate(dl=dls.valid)"
   ]
  },
  {
   "cell_type": "code",
   "execution_count": null,
   "id": "f84ded5d-2baf-4ea3-b483-47810e759b7a",
   "metadata": {},
   "outputs": [],
   "source": [
    "# Concluciones\n",
    "# - El modelo muestra una tendencia positiva en la reduccion de la perdida y \n",
    "#   aumento de la precision a lo largo del entrenamiento.\n",
    "# - La perdida de validadcion ha mostrado algo de fluctuacion, lo cual pude ser normal, pero tambien podria ser indicativo\n",
    "#   que el modelo podria beneficiarse de un ajuste mas fino o una mayor regularizacion.\n",
    "# - La precision final de 53.3% indica que el modelo esta en un punto medio. Hay margen para mejoras adicionales. "
   ]
  }
 ],
 "metadata": {
  "kernelspec": {
   "display_name": "Python 3 (ipykernel)",
   "language": "python",
   "name": "python3"
  },
  "language_info": {
   "codemirror_mode": {
    "name": "ipython",
    "version": 3
   },
   "file_extension": ".py",
   "mimetype": "text/x-python",
   "name": "python",
   "nbconvert_exporter": "python",
   "pygments_lexer": "ipython3",
   "version": "3.12.5"
  }
 },
 "nbformat": 4,
 "nbformat_minor": 5
}
