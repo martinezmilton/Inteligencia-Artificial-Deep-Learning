{
  "nbformat": 4,
  "nbformat_minor": 0,
  "metadata": {
    "colab": {
      "provenance": []
    },
    "kernelspec": {
      "name": "python3",
      "display_name": "Python 3"
    },
    "language_info": {
      "name": "python"
    }
  },
  "cells": [
    {
      "cell_type": "code",
      "source": [
        "from google.colab import drive\n",
        "drive.mount('/content/drive')"
      ],
      "metadata": {
        "colab": {
          "base_uri": "https://localhost:8080/"
        },
        "id": "zzHD21R6mMEg",
        "outputId": "4954c92c-e185-4c01-c696-152af051c2e6"
      },
      "execution_count": 144,
      "outputs": [
        {
          "output_type": "stream",
          "name": "stdout",
          "text": [
            "Drive already mounted at /content/drive; to attempt to forcibly remount, call drive.mount(\"/content/drive\", force_remount=True).\n"
          ]
        }
      ]
    },
    {
      "cell_type": "code",
      "source": [
        "import pandas as pd\n",
        "import numpy as np\n",
        "import torch\n",
        "import torch.nn as nn\n",
        "from sklearn.preprocessing import MinMaxScaler\n",
        "from sklearn.model_selection import train_test_split\n",
        "from torch.utils.data import Dataset, DataLoader"
      ],
      "metadata": {
        "id": "Et70X9u0Kxw5"
      },
      "execution_count": 145,
      "outputs": []
    },
    {
      "cell_type": "code",
      "source": [
        "# Cargar el dataset desde Google Drive\n",
        "file_path = '/content/drive/My Drive/inteligencia-artificial-II/dataset_calidad_agua.csv'\n",
        "df = pd.read_csv(file_path)\n",
        "\n",
        "print(df.head())\n",
        "# Informacion del dataset\n",
        "print(df.info())\n"
      ],
      "metadata": {
        "colab": {
          "base_uri": "https://localhost:8080/"
        },
        "id": "f07lFpuyr7_f",
        "outputId": "2486d6f2-63e5-4284-dd2b-205e9e75ef47"
      },
      "execution_count": 146,
      "outputs": [
        {
          "output_type": "stream",
          "name": "stdout",
          "text": [
            "        Fecha         Temporada  Temperatura_Agua_T    pH  Cianuro_Libre  \\\n",
            "0  2016-01-01  Tiempo de lluvia               15.57  7.91           0.18   \n",
            "1  2016-01-02  Tiempo de lluvia               13.43  8.33           0.17   \n",
            "2  2016-01-03  Tiempo de lluvia               19.29  8.48           0.12   \n",
            "3  2016-01-04  Tiempo de lluvia               17.67  6.11           0.05   \n",
            "4  2016-01-05  Tiempo de lluvia               26.22  6.34           0.10   \n",
            "\n",
            "   Cromo_6   DBO5     DQO  Fosforo  Hierro  Niquel  Solidos_Suspendidos  \\\n",
            "0     0.04  51.40  134.97     2.26    0.60    0.07                24.85   \n",
            "1     0.05   3.51  186.84     1.47    2.80    0.47                63.69   \n",
            "2     0.09  24.07  152.57     4.25    1.31    0.44                 8.74   \n",
            "3     0.08  14.38  205.67     4.19    0.69    0.12                23.92   \n",
            "4     0.04  27.69    7.05     2.37    3.66    0.12                57.90   \n",
            "\n",
            "   Solidos_Sedimentables  Sulfuros  Fenoles    Calidad  \n",
            "0                   6.25      0.18     0.09      Buena  \n",
            "1                   6.19      0.25     0.04      Buena  \n",
            "2                   0.23      0.20     0.11      Buena  \n",
            "3                   5.55      0.45     0.06  Aceptable  \n",
            "4                   0.73      0.27     0.08  Aceptable  \n",
            "<class 'pandas.core.frame.DataFrame'>\n",
            "RangeIndex: 3653 entries, 0 to 3652\n",
            "Data columns (total 16 columns):\n",
            " #   Column                 Non-Null Count  Dtype  \n",
            "---  ------                 --------------  -----  \n",
            " 0   Fecha                  3653 non-null   object \n",
            " 1   Temporada              3653 non-null   object \n",
            " 2   Temperatura_Agua_T     3653 non-null   float64\n",
            " 3   pH                     3653 non-null   float64\n",
            " 4   Cianuro_Libre          3653 non-null   float64\n",
            " 5   Cromo_6                3653 non-null   float64\n",
            " 6   DBO5                   3653 non-null   float64\n",
            " 7   DQO                    3653 non-null   float64\n",
            " 8   Fosforo                3653 non-null   float64\n",
            " 9   Hierro                 3653 non-null   float64\n",
            " 10  Niquel                 3653 non-null   float64\n",
            " 11  Solidos_Suspendidos    3653 non-null   float64\n",
            " 12  Solidos_Sedimentables  3653 non-null   float64\n",
            " 13  Sulfuros               3653 non-null   float64\n",
            " 14  Fenoles                3653 non-null   float64\n",
            " 15  Calidad                3653 non-null   object \n",
            "dtypes: float64(13), object(3)\n",
            "memory usage: 456.8+ KB\n",
            "None\n"
          ]
        }
      ]
    },
    {
      "cell_type": "code",
      "source": [
        "# Convertir fecha a datetime\n",
        "df['Fecha'] = pd.to_datetime(df['Fecha'])\n",
        "\n",
        "# Convertir columna temporada\n",
        "df['Temporada'] = df['Temporada'].map({'Tiempo de lluvia': 1, 'Tiempo de estiaje': 2})\n",
        "\n",
        "# Convertir la columna calidad\n",
        "df['Calidad'] = df['Calidad'].map({'Buena': 0, 'Aceptable': 1, 'Mala': 2})\n",
        "\n",
        "print(df.head())\n",
        "print(df.info())"
      ],
      "metadata": {
        "colab": {
          "base_uri": "https://localhost:8080/"
        },
        "id": "kQxzRdn-6izQ",
        "outputId": "634f695f-77ff-400a-a230-050b06400ebe"
      },
      "execution_count": 147,
      "outputs": [
        {
          "output_type": "stream",
          "name": "stdout",
          "text": [
            "       Fecha  Temporada  Temperatura_Agua_T    pH  Cianuro_Libre  Cromo_6  \\\n",
            "0 2016-01-01          1               15.57  7.91           0.18     0.04   \n",
            "1 2016-01-02          1               13.43  8.33           0.17     0.05   \n",
            "2 2016-01-03          1               19.29  8.48           0.12     0.09   \n",
            "3 2016-01-04          1               17.67  6.11           0.05     0.08   \n",
            "4 2016-01-05          1               26.22  6.34           0.10     0.04   \n",
            "\n",
            "    DBO5     DQO  Fosforo  Hierro  Niquel  Solidos_Suspendidos  \\\n",
            "0  51.40  134.97     2.26    0.60    0.07                24.85   \n",
            "1   3.51  186.84     1.47    2.80    0.47                63.69   \n",
            "2  24.07  152.57     4.25    1.31    0.44                 8.74   \n",
            "3  14.38  205.67     4.19    0.69    0.12                23.92   \n",
            "4  27.69    7.05     2.37    3.66    0.12                57.90   \n",
            "\n",
            "   Solidos_Sedimentables  Sulfuros  Fenoles  Calidad  \n",
            "0                   6.25      0.18     0.09        0  \n",
            "1                   6.19      0.25     0.04        0  \n",
            "2                   0.23      0.20     0.11        0  \n",
            "3                   5.55      0.45     0.06        1  \n",
            "4                   0.73      0.27     0.08        1  \n",
            "<class 'pandas.core.frame.DataFrame'>\n",
            "RangeIndex: 3653 entries, 0 to 3652\n",
            "Data columns (total 16 columns):\n",
            " #   Column                 Non-Null Count  Dtype         \n",
            "---  ------                 --------------  -----         \n",
            " 0   Fecha                  3653 non-null   datetime64[ns]\n",
            " 1   Temporada              3653 non-null   int64         \n",
            " 2   Temperatura_Agua_T     3653 non-null   float64       \n",
            " 3   pH                     3653 non-null   float64       \n",
            " 4   Cianuro_Libre          3653 non-null   float64       \n",
            " 5   Cromo_6                3653 non-null   float64       \n",
            " 6   DBO5                   3653 non-null   float64       \n",
            " 7   DQO                    3653 non-null   float64       \n",
            " 8   Fosforo                3653 non-null   float64       \n",
            " 9   Hierro                 3653 non-null   float64       \n",
            " 10  Niquel                 3653 non-null   float64       \n",
            " 11  Solidos_Suspendidos    3653 non-null   float64       \n",
            " 12  Solidos_Sedimentables  3653 non-null   float64       \n",
            " 13  Sulfuros               3653 non-null   float64       \n",
            " 14  Fenoles                3653 non-null   float64       \n",
            " 15  Calidad                3653 non-null   int64         \n",
            "dtypes: datetime64[ns](1), float64(13), int64(2)\n",
            "memory usage: 456.8 KB\n",
            "None\n"
          ]
        }
      ]
    },
    {
      "cell_type": "code",
      "source": [
        "# Ordenar los datos por fecha\n",
        "df = df.sort_values(by='Fecha')\n",
        "\n",
        "# Seleccionar las caracteristicas y el objetivo\n",
        "features = df.drop(columns=['Fecha', 'Calidad'])\n",
        "target = df['Calidad']\n",
        "\n",
        "# Normalizar las caracteristicas\n",
        "scaler = MinMaxScaler()\n",
        "features_scaled = scaler.fit_transform(features)\n",
        "\n",
        "# Convertir a numpy arrays\n",
        "X = np.array(features_scaled)\n",
        "y = np.array(target)\n",
        "\n",
        "# Crear secuencias temporales\n",
        "def create_sequences(X, y, seq_length=30):\n",
        "    sequences, targets = [], []\n",
        "    for i in range(len(X) - seq_length):\n",
        "        sequences.append(X[i:i+seq_length])\n",
        "        targets.append(y[i+seq_length])\n",
        "    return np.array(sequences), np.array(targets)\n",
        "\n",
        "# Definir el tamño de la secuencia\n",
        "X_seq, y_seq = create_sequences(X, y)\n",
        "\n",
        "# Dividir en entrenamiento y prueba\n",
        "X_train, X_test, y_train, y_test = train_test_split(X_seq, y_seq, test_size=0.2, shuffle=False)\n",
        "\n",
        "# Crear dataset\n",
        "class WaterQualityDataset(Dataset):\n",
        "    def __init__(self, X, y):\n",
        "        self.X = torch.tensor(X, dtype=torch.float32)\n",
        "        self.y = torch.tensor(y, dtype=torch.long)\n",
        "\n",
        "    def __len__(self):\n",
        "        return len(self.X)\n",
        "\n",
        "    def __getitem__(self, idx):\n",
        "        return self.X[idx], self.y[idx]\n",
        "\n",
        "# Crear DataLoader\n",
        "batch_size = 64\n",
        "train_loader = DataLoader(WaterQualityDataset(X_train, y_train), batch_size=batch_size, shuffle=True)\n",
        "test_loader = DataLoader(WaterQualityDataset(X_test, y_test), batch_size=batch_size, shuffle=False)"
      ],
      "metadata": {
        "id": "hdz7wbzYDdYc"
      },
      "execution_count": 148,
      "outputs": []
    },
    {
      "cell_type": "code",
      "source": [
        "# Definir el modelo rnn\n",
        "class RNNModel(nn.Module):\n",
        "    def __init__(self, input_size, hidden_size, num_layers, output_size):\n",
        "        super(RNNModel, self).__init__()\n",
        "        self.hidden_size = hidden_size\n",
        "        self.num_layers = num_layers\n",
        "        self.rnn = nn.LSTM(input_size, hidden_size, num_layers, batch_first=True)\n",
        "        self.fc = nn.Linear(hidden_size, output_size)\n",
        "\n",
        "    def forward(self, x):\n",
        "        h0 = torch.zeros(self.num_layers, x.size(0), self.hidden_size).to(x.device)\n",
        "        c0 = torch.zeros(self.num_layers, x.size(0), self.hidden_size).to(x.device)\n",
        "        out, _ = self.rnn(x, (h0, c0))\n",
        "        out = self.fc(out[:, -1, :])\n",
        "        return out\n",
        "\n",
        "# Hiperparámetros\n",
        "input_size = X_seq.shape[2]  # Tamaño de la secuencia de entrada\n",
        "hidden_size = 64  # Tamaño de la capa oculta\n",
        "num_layers = 2  # Número de capas LSTM\n",
        "output_size = len(np.unique(y))  # Tamaño de la salida, según las clases de y\n",
        "learning_rate = 0.001  # Tasa de aprendizaje\n",
        "num_epochs = 10  # Número de épocas\n",
        "\n",
        "device = 'cuda' if torch.cuda.is_available() else 'cpu'\n",
        "\n",
        "# Inicializar el modelo, la función de pérdida y el optimizador\n",
        "model = RNNModel(input_size, hidden_size, num_layers, output_size).to(device)\n",
        "criterion = nn.CrossEntropyLoss()\n",
        "optimizer = torch.optim.Adam(model.parameters(), lr=learning_rate)"
      ],
      "metadata": {
        "id": "Zp5L04gBLmyG"
      },
      "execution_count": 149,
      "outputs": []
    },
    {
      "cell_type": "code",
      "source": [
        "# Entrenamiento del modelo\n",
        "def train_model(model, train_loader, criterion, optimizer, num_epochs, device):\n",
        "    model.train()\n",
        "    for epoch in range(num_epochs):\n",
        "        running_loss = 0.0\n",
        "        for sequences, labels in train_loader:\n",
        "            sequences, labels = sequences.to(device), labels.to(device)\n",
        "\n",
        "            # Forward pass\n",
        "            outputs = model(sequences)\n",
        "            loss = criterion(outputs, labels)\n",
        "\n",
        "            # Backward pass y optimización\n",
        "            optimizer.zero_grad()\n",
        "            loss.backward()\n",
        "            optimizer.step()\n",
        "\n",
        "            running_loss += loss.item()\n",
        "\n",
        "        print(f'Epoch [{epoch+1}/{num_epochs}], Loss: {running_loss / len(train_loader):.4f}')\n",
        "\n",
        "train_model(model, train_loader, criterion, optimizer, num_epochs, device)"
      ],
      "metadata": {
        "colab": {
          "base_uri": "https://localhost:8080/"
        },
        "id": "BDJVlxo2M6RR",
        "outputId": "7d916e9c-3b62-42c6-8c82-48cedf34b360"
      },
      "execution_count": 150,
      "outputs": [
        {
          "output_type": "stream",
          "name": "stdout",
          "text": [
            "Epoch [1/10], Loss: 0.9586\n",
            "Epoch [2/10], Loss: 0.9276\n",
            "Epoch [3/10], Loss: 0.9239\n",
            "Epoch [4/10], Loss: 0.9253\n",
            "Epoch [5/10], Loss: 0.9240\n",
            "Epoch [6/10], Loss: 0.9234\n",
            "Epoch [7/10], Loss: 0.9196\n",
            "Epoch [8/10], Loss: 0.9229\n",
            "Epoch [9/10], Loss: 0.9206\n",
            "Epoch [10/10], Loss: 0.9225\n"
          ]
        }
      ]
    },
    {
      "cell_type": "code",
      "source": [
        "# Evaluación del modelo\n",
        "def evaluate_model(model, test_loader, device):\n",
        "    model.eval()\n",
        "    correct, total = 0, 0\n",
        "    with torch.no_grad():\n",
        "        for sequences, labels in test_loader:\n",
        "            sequences, labels = sequences.to(device), labels.to(device)\n",
        "            outputs = model(sequences)\n",
        "            _, predicted = torch.max(outputs.data, 1)\n",
        "            total += labels.size(0)\n",
        "            correct += (predicted == labels).sum().item()\n",
        "\n",
        "    print(f'Accuracy: {100 * correct / total:.2f}%')\n",
        "\n",
        "evaluate_model(model, test_loader, device)"
      ],
      "metadata": {
        "colab": {
          "base_uri": "https://localhost:8080/"
        },
        "id": "ubq_gZfDNCXB",
        "outputId": "36f899b1-e09a-4f6a-cf67-7a0c0a17a436"
      },
      "execution_count": 151,
      "outputs": [
        {
          "output_type": "stream",
          "name": "stdout",
          "text": [
            "Accuracy: 66.07%\n"
          ]
        }
      ]
    },
    {
      "cell_type": "code",
      "source": [
        "# Predicciones 2025\n",
        "def predict_future_quality(model, data, device, seq_length=30):\n",
        "    model.eval()\n",
        "    predictions = []\n",
        "    with torch.no_grad():\n",
        "        for i in range(len(data)):\n",
        "            seq = torch.tensor(data[i], dtype=torch.float32).unsqueeze(0).to(device)\n",
        "            output = model(seq)\n",
        "            _, predicted = torch.max(output, 1)\n",
        "            predictions.append(predicted.item())\n",
        "    return predictions\n",
        "\n",
        "# Preparar datos para predicciones\n",
        "data_seq, _ = create_sequences(X, y)\n",
        "predictions = predict_future_quality(model, data_seq, device)\n",
        "\n",
        "print(predictions[:100])"
      ],
      "metadata": {
        "colab": {
          "base_uri": "https://localhost:8080/"
        },
        "id": "POifvPg9NVA6",
        "outputId": "a7fa3f3d-8dd3-4acb-b850-1fd6d91360fb"
      },
      "execution_count": 154,
      "outputs": [
        {
          "output_type": "stream",
          "name": "stdout",
          "text": [
            "[1, 1, 1, 1, 1, 1, 1, 1, 1, 1, 1, 1, 1, 1, 1, 1, 1, 1, 1, 1, 1, 1, 1, 1, 1, 1, 1, 1, 1, 1, 1, 1, 1, 1, 1, 1, 1, 1, 1, 1, 1, 1, 1, 1, 1, 1, 1, 1, 1, 1, 1, 1, 1, 1, 1, 1, 1, 1, 1, 1, 1, 1, 1, 1, 1, 1, 1, 1, 1, 1, 1, 1, 1, 1, 1, 1, 1, 1, 1, 1, 1, 1, 1, 1, 1, 1, 1, 1, 1, 1, 1, 1, 1, 1, 1, 1, 1, 1, 1, 1]\n"
          ]
        }
      ]
    }
  ]
}